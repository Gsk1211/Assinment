{
 "cells": [
  {
   "cell_type": "code",
   "execution_count": 5,
   "id": "c147972f",
   "metadata": {},
   "outputs": [
    {
     "name": "stdout",
     "output_type": "stream",
     "text": [
      "1: 0\n",
      "2 : 1\n",
      "3 : 1\n",
      "4 : 2\n",
      "5 : 3\n",
      "6 : 5\n",
      "7 : 8\n",
      "8 : 13\n",
      "9 : 21\n",
      "10 : 34\n",
      "11 : 55\n",
      "12 : 89\n",
      "13 : 144\n",
      "14 : 233\n",
      "15 : 377\n",
      "16 : 610\n",
      "17 : 987\n",
      "18 : 1597\n",
      "19 : 2584\n",
      "20 : 4181\n",
      "21 : 6765\n",
      "22 : 10946\n",
      "23 : 17711\n",
      "24 : 28657\n",
      "25 : 46368\n",
      "26 : 75025\n",
      "27 : 121393\n",
      "28 : 196418\n",
      "29 : 317811\n",
      "30 : 514229\n",
      "31 : 832040\n",
      "32 : 1346269\n",
      "33 : 2178309\n",
      "34 : 3524578\n",
      "35 : 5702887\n",
      "36 : 9227465\n",
      "37 : 14930352\n",
      "38 : 24157817\n",
      "39 : 39088169\n",
      "40 : 63245986\n",
      "41 : 102334155\n",
      "42 : 165580141\n",
      "43 : 267914296\n",
      "44 : 433494437\n",
      "45 : 701408733\n",
      "46 : 1134903170\n",
      "47 : 1836311903\n",
      "48 : 2971215073\n",
      "49 : 4807526976\n",
      "50 : 7778742049\n"
     ]
    }
   ],
   "source": [
    "number1 = 0\n",
    "print('1:', number1)\n",
    "number2 = 1\n",
    "for count in range(2,51):\n",
    "  print(count, ':', number1 + number2)\n",
    "  number1 += number2\n",
    "  number2 = number1 - number2"
   ]
  }
 ],
 "metadata": {
  "kernelspec": {
   "display_name": "Python 3",
   "language": "python",
   "name": "python3"
  },
  "language_info": {
   "codemirror_mode": {
    "name": "ipython",
    "version": 3
   },
   "file_extension": ".py",
   "mimetype": "text/x-python",
   "name": "python",
   "nbconvert_exporter": "python",
   "pygments_lexer": "ipython3",
   "version": "3.8.8"
  }
 },
 "nbformat": 4,
 "nbformat_minor": 5
}
